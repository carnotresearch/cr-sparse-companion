{
 "cells": [
  {
   "cell_type": "markdown",
   "id": "3dc5768a",
   "metadata": {},
   "source": [
    "# HAAR DWT2 "
   ]
  },
  {
   "cell_type": "code",
   "execution_count": 1,
   "id": "36847dda",
   "metadata": {},
   "outputs": [],
   "source": [
    "from jax.config import config\n",
    "config.update(\"jax_enable_x64\", True)\n",
    "from jax import random\n",
    "import numpy as np\n",
    "import jax.numpy as jnp\n",
    "import pylops\n",
    "from cr.sparse import lop\n",
    "import cr.sparse as crs"
   ]
  },
  {
   "cell_type": "code",
   "execution_count": 2,
   "id": "e5f84330",
   "metadata": {},
   "outputs": [],
   "source": [
    "n = 4000\n",
    "m =crs.next_pow_of_2(n)\n",
    "shape = (n, n)\n",
    "x_jax = random.randint(random.PRNGKey(0), shape, -10, 10)\n",
    "x_np = np.array(x_jax)"
   ]
  },
  {
   "cell_type": "code",
   "execution_count": 3,
   "id": "c43c1054",
   "metadata": {},
   "outputs": [],
   "source": [
    "level = 8\n",
    "op_np = pylops.signalprocessing.DWT2D(shape, level=level)\n",
    "op_jax = lop.jit(lop.dwt2D(shape, level=level))"
   ]
  },
  {
   "cell_type": "code",
   "execution_count": 4,
   "id": "abaffb73",
   "metadata": {},
   "outputs": [],
   "source": [
    "y_np = (op_np @ x_np.flatten()).reshape((m, m))"
   ]
  },
  {
   "cell_type": "code",
   "execution_count": 5,
   "id": "d7a957dc",
   "metadata": {},
   "outputs": [],
   "source": [
    "y_jax = op_jax.times(x_jax)"
   ]
  },
  {
   "cell_type": "code",
   "execution_count": 6,
   "id": "3bb80d2b",
   "metadata": {},
   "outputs": [
    {
     "data": {
      "text/plain": [
       "DeviceArray(True, dtype=bool)"
      ]
     },
     "execution_count": 6,
     "metadata": {},
     "output_type": "execute_result"
    }
   ],
   "source": [
    "jnp.allclose(y_np, y_jax)"
   ]
  },
  {
   "cell_type": "code",
   "execution_count": 7,
   "id": "6de73a05",
   "metadata": {},
   "outputs": [
    {
     "name": "stdout",
     "output_type": "stream",
     "text": [
      "981 ms ± 2.77 ms per loop (mean ± std. dev. of 7 runs, 1 loop each)\n"
     ]
    }
   ],
   "source": [
    "np_time = %timeit -o (op_np @ x_np.flatten()).reshape((m, m))"
   ]
  },
  {
   "cell_type": "code",
   "execution_count": 8,
   "id": "130d1749",
   "metadata": {},
   "outputs": [
    {
     "name": "stdout",
     "output_type": "stream",
     "text": [
      "34.4 ms ± 10.8 µs per loop (mean ± std. dev. of 7 runs, 10 loops each)\n"
     ]
    }
   ],
   "source": [
    "jax_time = %timeit -o op_jax.times(x_jax).block_until_ready()"
   ]
  },
  {
   "cell_type": "code",
   "execution_count": 9,
   "id": "8b48c9b9",
   "metadata": {},
   "outputs": [
    {
     "name": "stdout",
     "output_type": "stream",
     "text": [
      "28.514630735291732\n"
     ]
    }
   ],
   "source": [
    "gain = np_time.average / jax_time.average\n",
    "print(gain)"
   ]
  },
  {
   "cell_type": "code",
   "execution_count": 10,
   "id": "2a5e7ec1",
   "metadata": {},
   "outputs": [],
   "source": [
    "z_np = op_np.rmatvec(y_np.flatten()).reshape(shape)"
   ]
  },
  {
   "cell_type": "code",
   "execution_count": 11,
   "id": "67832361",
   "metadata": {},
   "outputs": [],
   "source": [
    "z_jax = op_jax.trans(y_jax)"
   ]
  },
  {
   "cell_type": "code",
   "execution_count": 12,
   "id": "d6d5fe1a",
   "metadata": {},
   "outputs": [
    {
     "data": {
      "text/plain": [
       "DeviceArray(True, dtype=bool)"
      ]
     },
     "execution_count": 12,
     "metadata": {},
     "output_type": "execute_result"
    }
   ],
   "source": [
    "jnp.allclose(z_np, z_jax)"
   ]
  },
  {
   "cell_type": "code",
   "execution_count": 13,
   "id": "b87efd10",
   "metadata": {},
   "outputs": [
    {
     "name": "stdout",
     "output_type": "stream",
     "text": [
      "713 ms ± 5.44 ms per loop (mean ± std. dev. of 7 runs, 1 loop each)\n"
     ]
    }
   ],
   "source": [
    "np_time = %timeit -o op_np.rmatvec(y_np.flatten()).reshape(shape)"
   ]
  },
  {
   "cell_type": "code",
   "execution_count": 14,
   "id": "c090bbbd",
   "metadata": {},
   "outputs": [
    {
     "name": "stdout",
     "output_type": "stream",
     "text": [
      "60.8 ms ± 25.8 µs per loop (mean ± std. dev. of 7 runs, 10 loops each)\n"
     ]
    }
   ],
   "source": [
    "jax_time = %timeit -o op_jax.trans(y_jax)"
   ]
  },
  {
   "cell_type": "code",
   "execution_count": 15,
   "id": "447a9665",
   "metadata": {},
   "outputs": [
    {
     "name": "stdout",
     "output_type": "stream",
     "text": [
      "11.724658650916197\n"
     ]
    }
   ],
   "source": [
    "gain = np_time.average / jax_time.average\n",
    "print(gain)"
   ]
  },
  {
   "cell_type": "code",
   "execution_count": null,
   "id": "5288624d",
   "metadata": {},
   "outputs": [],
   "source": []
  }
 ],
 "metadata": {
  "kernelspec": {
   "display_name": "Python 3",
   "language": "python",
   "name": "python3"
  },
  "language_info": {
   "codemirror_mode": {
    "name": "ipython",
    "version": 3
   },
   "file_extension": ".py",
   "mimetype": "text/x-python",
   "name": "python",
   "nbconvert_exporter": "python",
   "pygments_lexer": "ipython3",
   "version": "3.8.8"
  }
 },
 "nbformat": 4,
 "nbformat_minor": 5
}
