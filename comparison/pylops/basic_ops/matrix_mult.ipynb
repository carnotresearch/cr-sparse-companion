{
 "cells": [
  {
   "cell_type": "code",
   "execution_count": 1,
   "id": "24774f01",
   "metadata": {},
   "outputs": [],
   "source": [
    "import numpy as np\n",
    "import jax.numpy as jnp\n",
    "import pylops\n",
    "from cr.sparse import lop\n",
    "import cr.sparse as crs"
   ]
  },
  {
   "cell_type": "code",
   "execution_count": 2,
   "id": "473a537b",
   "metadata": {},
   "outputs": [],
   "source": [
    "m,n = 10000,10000\n",
    "A_np = np.random.normal(0, 1, (m, n))\n",
    "x_np = np.ones(n)"
   ]
  },
  {
   "cell_type": "code",
   "execution_count": 3,
   "id": "68594b6f",
   "metadata": {},
   "outputs": [],
   "source": [
    "op_np = pylops.MatrixMult(A_np)"
   ]
  },
  {
   "cell_type": "code",
   "execution_count": 4,
   "id": "6c026739",
   "metadata": {},
   "outputs": [],
   "source": [
    "y_np = op_np * x_np"
   ]
  },
  {
   "cell_type": "code",
   "execution_count": 5,
   "id": "73aa7670",
   "metadata": {},
   "outputs": [],
   "source": [
    "A_jax = jnp.array(A_np)\n",
    "x_jax = jnp.array(x_np)"
   ]
  },
  {
   "cell_type": "code",
   "execution_count": 6,
   "id": "c3fb8280",
   "metadata": {},
   "outputs": [],
   "source": [
    "op_jax = lop.matrix(A_jax)\n",
    "op_jax = lop.jit(op_jax)"
   ]
  },
  {
   "cell_type": "code",
   "execution_count": 7,
   "id": "0f519b09",
   "metadata": {},
   "outputs": [],
   "source": [
    "y_jax = op_jax.times(x_jax)"
   ]
  },
  {
   "cell_type": "code",
   "execution_count": 8,
   "id": "2f7d52d1",
   "metadata": {},
   "outputs": [
    {
     "data": {
      "text/plain": [
       "True"
      ]
     },
     "execution_count": 8,
     "metadata": {},
     "output_type": "execute_result"
    }
   ],
   "source": [
    "np.allclose(y_np, y_jax, atol=1e-4)"
   ]
  },
  {
   "cell_type": "code",
   "execution_count": 9,
   "id": "82061731",
   "metadata": {},
   "outputs": [
    {
     "name": "stdout",
     "output_type": "stream",
     "text": [
      "11 ms ± 59.3 µs per loop (mean ± std. dev. of 7 runs, 100 loops each)\n"
     ]
    }
   ],
   "source": [
    "np_time = %timeit -o op_np * x_np"
   ]
  },
  {
   "cell_type": "code",
   "execution_count": 10,
   "id": "9208890a",
   "metadata": {},
   "outputs": [
    {
     "name": "stdout",
     "output_type": "stream",
     "text": [
      "2.51 ms ± 1.36 µs per loop (mean ± std. dev. of 7 runs, 100 loops each)\n"
     ]
    }
   ],
   "source": [
    "jax_time = %timeit -o op_jax.times(x_jax).block_until_ready()"
   ]
  },
  {
   "cell_type": "code",
   "execution_count": 11,
   "id": "a8a57842",
   "metadata": {},
   "outputs": [
    {
     "name": "stdout",
     "output_type": "stream",
     "text": [
      "4.370156377294028\n"
     ]
    }
   ],
   "source": [
    "gain = np_time.average / jax_time.average\n",
    "print(gain)"
   ]
  },
  {
   "cell_type": "code",
   "execution_count": 12,
   "id": "e76e98fd",
   "metadata": {},
   "outputs": [],
   "source": [
    "y1_np = op_np.H * x_np"
   ]
  },
  {
   "cell_type": "code",
   "execution_count": 13,
   "id": "8c47f881",
   "metadata": {},
   "outputs": [],
   "source": [
    "y1_jax = op_jax.trans(x_jax).block_until_ready()"
   ]
  },
  {
   "cell_type": "code",
   "execution_count": 14,
   "id": "6ed924fe",
   "metadata": {},
   "outputs": [
    {
     "data": {
      "text/plain": [
       "True"
      ]
     },
     "execution_count": 14,
     "metadata": {},
     "output_type": "execute_result"
    }
   ],
   "source": [
    "np.allclose(y1_np, y1_jax, atol=1e-4)"
   ]
  },
  {
   "cell_type": "code",
   "execution_count": 15,
   "id": "a3432b15",
   "metadata": {},
   "outputs": [
    {
     "name": "stdout",
     "output_type": "stream",
     "text": [
      "11.6 ms ± 55 µs per loop (mean ± std. dev. of 7 runs, 100 loops each)\n"
     ]
    }
   ],
   "source": [
    "np_time = %timeit -o op_np.H * x_np"
   ]
  },
  {
   "cell_type": "code",
   "execution_count": 16,
   "id": "2bc4013a",
   "metadata": {},
   "outputs": [
    {
     "name": "stdout",
     "output_type": "stream",
     "text": [
      "2.51 ms ± 685 ns per loop (mean ± std. dev. of 7 runs, 100 loops each)\n"
     ]
    }
   ],
   "source": [
    "jax_time = %timeit -o op_jax.trans(x_jax).block_until_ready()"
   ]
  },
  {
   "cell_type": "code",
   "execution_count": 17,
   "id": "628b41f1",
   "metadata": {},
   "outputs": [
    {
     "name": "stdout",
     "output_type": "stream",
     "text": [
      "4.629653961375258\n"
     ]
    }
   ],
   "source": [
    "gain = np_time.average / jax_time.average\n",
    "print(gain)"
   ]
  },
  {
   "cell_type": "code",
   "execution_count": null,
   "id": "b3d3b747",
   "metadata": {},
   "outputs": [],
   "source": []
  }
 ],
 "metadata": {
  "kernelspec": {
   "display_name": "Python 3",
   "language": "python",
   "name": "python3"
  },
  "language_info": {
   "codemirror_mode": {
    "name": "ipython",
    "version": 3
   },
   "file_extension": ".py",
   "mimetype": "text/x-python",
   "name": "python",
   "nbconvert_exporter": "python",
   "pygments_lexer": "ipython3",
   "version": "3.8.8"
  }
 },
 "nbformat": 4,
 "nbformat_minor": 5
}
