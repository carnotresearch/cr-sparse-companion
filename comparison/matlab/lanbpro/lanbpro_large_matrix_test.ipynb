{
 "cells": [
  {
   "cell_type": "code",
   "execution_count": 1,
   "id": "a60687ca",
   "metadata": {},
   "outputs": [],
   "source": [
    "# Configure JAX for 64-bit computing\n",
    "from jax.config import config\n",
    "config.update(\"jax_enable_x64\", True)"
   ]
  },
  {
   "cell_type": "code",
   "execution_count": 2,
   "id": "4adfb5f8",
   "metadata": {},
   "outputs": [],
   "source": [
    "import numpy as np\n",
    "import scipy as sp\n",
    "import scipy.io\n",
    "import jax\n",
    "import jax.numpy as jnp\n",
    "import cr.sparse as crs\n",
    "import cr.sparse.la.svd as lasvd"
   ]
  },
  {
   "cell_type": "code",
   "execution_count": 3,
   "id": "60804f00",
   "metadata": {},
   "outputs": [],
   "source": [
    "data = scipy.io.loadmat('labpro_test.mat', squeeze_me=True, struct_as_record=True)\n",
    "A = jnp.array(data['A'])\n",
    "m, n = A.shape\n",
    "p0 = jnp.array(data['p0'])\n",
    "rnk = int(data['rnk'])\n",
    "k = int(data['k'])\n",
    "alpha = jnp.array(data['alpha'])\n",
    "beta = jnp.array(data['beta'])\n",
    "U = jnp.array(data['U'])\n",
    "V = jnp.array(data['V'])"
   ]
  },
  {
   "cell_type": "code",
   "execution_count": 4,
   "id": "23872dca",
   "metadata": {},
   "outputs": [],
   "source": [
    "state = lasvd.lanbpro_jit(A, k, p0)"
   ]
  },
  {
   "cell_type": "code",
   "execution_count": 5,
   "id": "14b5604e",
   "metadata": {},
   "outputs": [
    {
     "data": {
      "text/plain": [
       "DeviceArray(True, dtype=bool)"
      ]
     },
     "execution_count": 5,
     "metadata": {},
     "output_type": "execute_result"
    }
   ],
   "source": [
    "jnp.allclose(alpha, state.alpha)"
   ]
  },
  {
   "cell_type": "code",
   "execution_count": 6,
   "id": "91c0fee8",
   "metadata": {},
   "outputs": [
    {
     "data": {
      "text/plain": [
       "DeviceArray(True, dtype=bool)"
      ]
     },
     "execution_count": 6,
     "metadata": {},
     "output_type": "execute_result"
    }
   ],
   "source": [
    "jnp.allclose(beta, state.beta[1:])"
   ]
  },
  {
   "cell_type": "code",
   "execution_count": 7,
   "id": "1d2c4fce",
   "metadata": {},
   "outputs": [
    {
     "name": "stdout",
     "output_type": "stream",
     "text": [
      "5.69 s ± 25.1 ms per loop (mean ± std. dev. of 7 runs, 1 loop each)\n"
     ]
    }
   ],
   "source": [
    "%timeit lasvd.lanbpro_jit(A, k, p0).alpha.block_until_ready()"
   ]
  },
  {
   "cell_type": "code",
   "execution_count": null,
   "id": "fcaadcde",
   "metadata": {},
   "outputs": [],
   "source": []
  }
 ],
 "metadata": {
  "kernelspec": {
   "display_name": "Python 3",
   "language": "python",
   "name": "python3"
  },
  "language_info": {
   "codemirror_mode": {
    "name": "ipython",
    "version": 3
   },
   "file_extension": ".py",
   "mimetype": "text/x-python",
   "name": "python",
   "nbconvert_exporter": "python",
   "pygments_lexer": "ipython3",
   "version": "3.8.8"
  }
 },
 "nbformat": 4,
 "nbformat_minor": 5
}
