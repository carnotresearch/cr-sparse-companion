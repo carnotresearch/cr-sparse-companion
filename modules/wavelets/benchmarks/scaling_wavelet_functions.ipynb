{
 "cells": [
  {
   "cell_type": "code",
   "execution_count": 1,
   "id": "07c93aaa",
   "metadata": {},
   "outputs": [],
   "source": [
    "%load_ext autoreload\n",
    "%autoreload 2\n",
    "from jax.config import config\n",
    "config.update(\"jax_enable_x64\", True)"
   ]
  },
  {
   "cell_type": "code",
   "execution_count": 2,
   "id": "55be3ff2",
   "metadata": {},
   "outputs": [],
   "source": [
    "import matplotlib.pyplot as plt\n",
    "%matplotlib inline"
   ]
  },
  {
   "cell_type": "code",
   "execution_count": 3,
   "id": "792f6c94",
   "metadata": {},
   "outputs": [],
   "source": [
    "import numpy as np\n",
    "import jax.numpy as jnp\n",
    "import pywt\n",
    "import cr.sparse.wt as wt"
   ]
  },
  {
   "cell_type": "code",
   "execution_count": 4,
   "id": "7bcef4f0",
   "metadata": {},
   "outputs": [],
   "source": [
    "name = 'db20'\n",
    "ref = pywt.Wavelet(name)\n",
    "our = wt.build_wavelet(name)"
   ]
  },
  {
   "cell_type": "code",
   "execution_count": 5,
   "id": "4d4fe009",
   "metadata": {},
   "outputs": [],
   "source": [
    "phi, psi, x = ref.wavefun()"
   ]
  },
  {
   "cell_type": "code",
   "execution_count": 6,
   "id": "433bf195",
   "metadata": {},
   "outputs": [],
   "source": [
    "phi2, psi2, x2 = our.wavefun()"
   ]
  },
  {
   "cell_type": "code",
   "execution_count": 7,
   "id": "ff059efe",
   "metadata": {},
   "outputs": [
    {
     "data": {
      "text/plain": [
       "(True, True, True)"
      ]
     },
     "execution_count": 7,
     "metadata": {},
     "output_type": "execute_result"
    }
   ],
   "source": [
    "np.allclose(phi, phi2), np.allclose(psi, psi2), np.allclose(x, x2)"
   ]
  },
  {
   "cell_type": "code",
   "execution_count": 8,
   "id": "d08856c0",
   "metadata": {},
   "outputs": [
    {
     "name": "stdout",
     "output_type": "stream",
     "text": [
      "408 µs ± 4.34 µs per loop (mean ± std. dev. of 7 runs, 1000 loops each)\n"
     ]
    }
   ],
   "source": [
    "ref_times = %timeit -o ref.wavefun()"
   ]
  },
  {
   "cell_type": "code",
   "execution_count": 9,
   "id": "4a1d1dc0",
   "metadata": {},
   "outputs": [
    {
     "name": "stdout",
     "output_type": "stream",
     "text": [
      "531 µs ± 10.1 µs per loop (mean ± std. dev. of 7 runs, 1000 loops each)\n"
     ]
    }
   ],
   "source": [
    "our_times = %timeit -o our.wavefun()"
   ]
  },
  {
   "cell_type": "code",
   "execution_count": null,
   "id": "be1d63d9",
   "metadata": {},
   "outputs": [],
   "source": []
  }
 ],
 "metadata": {
  "kernelspec": {
   "display_name": "Python 3",
   "language": "python",
   "name": "python3"
  },
  "language_info": {
   "codemirror_mode": {
    "name": "ipython",
    "version": 3
   },
   "file_extension": ".py",
   "mimetype": "text/x-python",
   "name": "python",
   "nbconvert_exporter": "python",
   "pygments_lexer": "ipython3",
   "version": "3.8.8"
  }
 },
 "nbformat": 4,
 "nbformat_minor": 5
}
