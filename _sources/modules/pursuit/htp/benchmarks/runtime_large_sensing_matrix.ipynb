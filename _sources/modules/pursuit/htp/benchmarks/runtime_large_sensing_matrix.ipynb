{
 "cells": [
  {
   "cell_type": "markdown",
   "id": "8f4dec41",
   "metadata": {},
   "source": [
    "# Runtime of Hard Thresholding Pursuit on Large Sensing Matrices"
   ]
  },
  {
   "cell_type": "code",
   "execution_count": 1,
   "id": "ea667e9d",
   "metadata": {},
   "outputs": [],
   "source": [
    "# Configure JAX for 64-bit computing\n",
    "from jax.config import config\n",
    "config.update(\"jax_enable_x64\", True)"
   ]
  },
  {
   "cell_type": "code",
   "execution_count": 2,
   "id": "a743125d",
   "metadata": {},
   "outputs": [],
   "source": [
    "import jax\n",
    "import jax.numpy as jnp\n",
    "import cr.sparse as crs\n",
    "import cr.sparse.dict as crdict\n",
    "import cr.sparse.data as crdata\n",
    "import cr.sparse.pursuit.htp as htp\n",
    "import cr.sparse.ef as ef"
   ]
  },
  {
   "cell_type": "code",
   "execution_count": 3,
   "id": "ee5b42b9",
   "metadata": {},
   "outputs": [],
   "source": [
    "M = 2560;\n",
    "N = 10240;\n",
    "K = 200;"
   ]
  },
  {
   "cell_type": "code",
   "execution_count": 4,
   "id": "d261c2c6",
   "metadata": {},
   "outputs": [],
   "source": [
    "Phi = crdict.gaussian_mtx(crs.KEYS[0], M, N)"
   ]
  },
  {
   "cell_type": "code",
   "execution_count": 5,
   "id": "40d435e9",
   "metadata": {},
   "outputs": [
    {
     "data": {
      "text/plain": [
       "(2560, 10240)"
      ]
     },
     "execution_count": 5,
     "metadata": {},
     "output_type": "execute_result"
    }
   ],
   "source": [
    "Phi.shape"
   ]
  },
  {
   "cell_type": "code",
   "execution_count": 6,
   "id": "160c17fe",
   "metadata": {},
   "outputs": [],
   "source": [
    "a = 1;\n",
    "b = 2;\n",
    "x0, omega = crdata.sparse_biuniform_representations(crs.KEYS[1], a, b, N, K)"
   ]
  },
  {
   "cell_type": "code",
   "execution_count": 7,
   "id": "96944a34",
   "metadata": {},
   "outputs": [],
   "source": [
    "y0 = Phi @ x0"
   ]
  },
  {
   "cell_type": "code",
   "execution_count": 8,
   "id": "6fc845f1",
   "metadata": {},
   "outputs": [
    {
     "data": {
      "text/plain": [
       "(2560,)"
      ]
     },
     "execution_count": 8,
     "metadata": {},
     "output_type": "execute_result"
    }
   ],
   "source": [
    "y0.shape"
   ]
  },
  {
   "cell_type": "code",
   "execution_count": 9,
   "id": "272e0225",
   "metadata": {},
   "outputs": [],
   "source": [
    "u_bound = crdict.upper_frame_bound(Phi)\n",
    "step_size = float(0.98 / u_bound)"
   ]
  },
  {
   "cell_type": "code",
   "execution_count": 10,
   "id": "f345883d",
   "metadata": {},
   "outputs": [],
   "source": [
    "sol = htp.matrix_solve_jit(Phi, y0, K, step_size=step_size)"
   ]
  },
  {
   "cell_type": "code",
   "execution_count": 11,
   "id": "b73ad8fc",
   "metadata": {},
   "outputs": [
    {
     "name": "stdout",
     "output_type": "stream",
     "text": [
      "4\n"
     ]
    }
   ],
   "source": [
    "print(sol.iterations)"
   ]
  },
  {
   "cell_type": "code",
   "execution_count": 12,
   "id": "91fc4014",
   "metadata": {},
   "outputs": [],
   "source": [
    "perf = ef.RecoveryPerformance(Phi, y0, x0, sol=sol)"
   ]
  },
  {
   "cell_type": "code",
   "execution_count": 13,
   "id": "2517c254",
   "metadata": {},
   "outputs": [
    {
     "name": "stdout",
     "output_type": "stream",
     "text": [
      "M: 2560, N: 10240, K: 200\n",
      "x_norm: 21.520, y_norm: 21.477\n",
      "x_hat_norm: 21.520, h_norm: 8.02e-14, r_norm: 8.16e-14\n",
      "recovery_snr: 288.57 dB, measurement_snr: 288.41 dB\n",
      "x_dr: 6.00 dB, y_dr: 73.26 dB, x_hat_dr: 5.999 dB\n",
      "T0: [   10    64   270   293   330   341   450   467   506   515   555   577\n",
      "   670   702   806   824   938   963   974   982  1129  1130  1199  1209\n",
      "  1230  1242  1271  1445  1518  1528  1598  1673  1710  1772  1898  1922\n",
      "  2088  2100  2109  2170  2196  2286  2415  2476  2531  2654  2674  2777\n",
      "  2820  2875  2897  2931  2938  2979  3018  3070  3109  3117  3141  3206\n",
      "  3209  3221  3405  3430  3447  3565  3612  3672  3673  3711  3788  3828\n",
      "  3880  3930  3965  4004  4028  4060  4161  4241  4277  4323  4412  4427\n",
      "  4437  4442  4517  4564  4655  4720  4735  4874  4899  4900  4956  5061\n",
      "  5127  5156  5197  5207  5246  5468  5512  5571  5582  5634  5694  5711\n",
      "  5785  5794  5927  5959  6015  6035  6141  6151  6212  6252  6257  6260\n",
      "  6363  6385  6437  6543  6691  6742  6812  6854  6906  6915  6943  6959\n",
      "  7015  7091  7140  7232  7241  7366  7534  7548  7603  7616  7634  7687\n",
      "  7739  7760  7803  7942  8061  8103  8110  8119  8189  8201  8250  8265\n",
      "  8290  8317  8427  8452  8646  8705  8736  8765  8857  8870  8879  8935\n",
      "  8959  8968  9033  9084  9232  9251  9296  9360  9396  9437  9462  9515\n",
      "  9516  9526  9563  9573  9578  9643  9652  9678  9734  9744  9784  9804\n",
      "  9892  9896  9914  9953  9954 10056 10088 10191]\n",
      "R0: [   10    64   270   293   330   341   450   467   506   515   555   577\n",
      "   670   702   806   824   938   963   974   982  1129  1130  1199  1209\n",
      "  1230  1242  1271  1445  1518  1528  1598  1673  1710  1772  1898  1922\n",
      "  2088  2100  2109  2170  2196  2286  2415  2476  2531  2654  2674  2777\n",
      "  2820  2875  2897  2931  2938  2979  3018  3070  3109  3117  3141  3206\n",
      "  3209  3221  3405  3430  3447  3565  3612  3672  3673  3711  3788  3828\n",
      "  3880  3930  3965  4004  4028  4060  4161  4241  4277  4323  4412  4427\n",
      "  4437  4442  4517  4564  4655  4720  4735  4874  4899  4900  4956  5061\n",
      "  5127  5156  5197  5207  5246  5468  5512  5571  5582  5634  5694  5711\n",
      "  5785  5794  5927  5959  6015  6035  6141  6151  6212  6252  6257  6260\n",
      "  6363  6385  6437  6543  6691  6742  6812  6854  6906  6915  6943  6959\n",
      "  7015  7091  7140  7232  7241  7366  7534  7548  7603  7616  7634  7687\n",
      "  7739  7760  7803  7942  8061  8103  8110  8119  8189  8201  8250  8265\n",
      "  8290  8317  8427  8452  8646  8705  8736  8765  8857  8870  8879  8935\n",
      "  8959  8968  9033  9084  9232  9251  9296  9360  9396  9437  9462  9515\n",
      "  9516  9526  9563  9573  9578  9643  9652  9678  9734  9744  9784  9804\n",
      "  9892  9896  9914  9953  9954 10056 10088 10191]\n",
      "Overlap: [   10    64   270   293   330   341   450   467   506   515   555   577\n",
      "   670   702   806   824   938   963   974   982  1129  1130  1199  1209\n",
      "  1230  1242  1271  1445  1518  1528  1598  1673  1710  1772  1898  1922\n",
      "  2088  2100  2109  2170  2196  2286  2415  2476  2531  2654  2674  2777\n",
      "  2820  2875  2897  2931  2938  2979  3018  3070  3109  3117  3141  3206\n",
      "  3209  3221  3405  3430  3447  3565  3612  3672  3673  3711  3788  3828\n",
      "  3880  3930  3965  4004  4028  4060  4161  4241  4277  4323  4412  4427\n",
      "  4437  4442  4517  4564  4655  4720  4735  4874  4899  4900  4956  5061\n",
      "  5127  5156  5197  5207  5246  5468  5512  5571  5582  5634  5694  5711\n",
      "  5785  5794  5927  5959  6015  6035  6141  6151  6212  6252  6257  6260\n",
      "  6363  6385  6437  6543  6691  6742  6812  6854  6906  6915  6943  6959\n",
      "  7015  7091  7140  7232  7241  7366  7534  7548  7603  7616  7634  7687\n",
      "  7739  7760  7803  7942  8061  8103  8110  8119  8189  8201  8250  8265\n",
      "  8290  8317  8427  8452  8646  8705  8736  8765  8857  8870  8879  8935\n",
      "  8959  8968  9033  9084  9232  9251  9296  9360  9396  9437  9462  9515\n",
      "  9516  9526  9563  9573  9578  9643  9652  9678  9734  9744  9784  9804\n",
      "  9892  9896  9914  9953  9954 10056 10088 10191]\n",
      "Correct atoms: 200. Ratio: 1.00, perfect_support_recovery: True\n",
      "success: True\n"
     ]
    }
   ],
   "source": [
    "perf.print()"
   ]
  },
  {
   "cell_type": "code",
   "execution_count": 14,
   "id": "f28b6be3",
   "metadata": {},
   "outputs": [
    {
     "name": "stdout",
     "output_type": "stream",
     "text": [
      "160 ms ± 61 µs per loop (mean ± std. dev. of 7 runs, 10 loops each)\n"
     ]
    }
   ],
   "source": [
    "%timeit htp.matrix_solve_jit(Phi, y0, K, step_size=step_size).I.block_until_ready()"
   ]
  },
  {
   "cell_type": "code",
   "execution_count": null,
   "id": "85a7cd08",
   "metadata": {},
   "outputs": [],
   "source": []
  }
 ],
 "metadata": {
  "kernelspec": {
   "display_name": "Python 3",
   "language": "python",
   "name": "python3"
  },
  "language_info": {
   "codemirror_mode": {
    "name": "ipython",
    "version": 3
   },
   "file_extension": ".py",
   "mimetype": "text/x-python",
   "name": "python",
   "nbconvert_exporter": "python",
   "pygments_lexer": "ipython3",
   "version": "3.8.8"
  }
 },
 "nbformat": 4,
 "nbformat_minor": 5
}
