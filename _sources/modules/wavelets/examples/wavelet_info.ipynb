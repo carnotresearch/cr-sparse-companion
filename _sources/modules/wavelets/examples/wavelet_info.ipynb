{
 "cells": [
  {
   "cell_type": "markdown",
   "id": "5232f5cf",
   "metadata": {},
   "source": [
    "# Wavelet Information"
   ]
  },
  {
   "cell_type": "code",
   "execution_count": 1,
   "id": "1f5a5d84",
   "metadata": {},
   "outputs": [],
   "source": [
    "import cr.sparse.wt as wt"
   ]
  },
  {
   "cell_type": "markdown",
   "id": "5275c206",
   "metadata": {},
   "source": [
    "## Wavelet families"
   ]
  },
  {
   "cell_type": "code",
   "execution_count": 2,
   "id": "d2512e19",
   "metadata": {},
   "outputs": [
    {
     "data": {
      "text/plain": [
       "['haar', 'db', 'sym', 'coif', 'bior', 'rbio', 'dmey']"
      ]
     },
     "execution_count": 2,
     "metadata": {},
     "output_type": "execute_result"
    }
   ],
   "source": [
    "wt.families()"
   ]
  },
  {
   "cell_type": "markdown",
   "id": "16e04165",
   "metadata": {},
   "source": [
    "### List of all supported wavelets"
   ]
  },
  {
   "cell_type": "code",
   "execution_count": 3,
   "id": "63743616",
   "metadata": {},
   "outputs": [
    {
     "name": "stdout",
     "output_type": "stream",
     "text": [
      "['bior1.1', 'bior1.3', 'bior1.5', 'bior2.2', 'bior2.4', 'bior2.6', 'bior2.8', 'bior3.1', 'bior3.3', 'bior3.5', 'bior3.7', 'bior3.9', 'bior4.4', 'bior5.5', 'bior6.8', 'cmor', 'coif1', 'coif2', 'coif3', 'coif4', 'coif5', 'coif6', 'coif7', 'coif8', 'coif9', 'coif10', 'coif11', 'coif12', 'coif13', 'coif14', 'coif15', 'coif16', 'coif17', 'db1', 'db2', 'db3', 'db4', 'db5', 'db6', 'db7', 'db8', 'db9', 'db10', 'db11', 'db12', 'db13', 'db14', 'db15', 'db16', 'db17', 'db18', 'db19', 'db20', 'db21', 'db22', 'db23', 'db24', 'db25', 'db26', 'db27', 'db28', 'db29', 'db30', 'db31', 'db32', 'db33', 'db34', 'db35', 'db36', 'db37', 'db38', 'dmey', 'haar', 'mexh', 'rbio1.1', 'rbio1.3', 'rbio1.5', 'rbio2.2', 'rbio2.4', 'rbio2.6', 'rbio2.8', 'rbio3.1', 'rbio3.3', 'rbio3.5', 'rbio3.7', 'rbio3.9', 'rbio4.4', 'rbio5.5', 'rbio6.8', 'sym2', 'sym3', 'sym4', 'sym5', 'sym6', 'sym7', 'sym8', 'sym9', 'sym10', 'sym11', 'sym12', 'sym13', 'sym14', 'sym15', 'sym16', 'sym17', 'sym18', 'sym19', 'sym20']\n"
     ]
    }
   ],
   "source": [
    "print(wt.wavelist())"
   ]
  },
  {
   "cell_type": "markdown",
   "id": "2704dd81",
   "metadata": {},
   "source": [
    "### List of wavelets for a specific family"
   ]
  },
  {
   "cell_type": "code",
   "execution_count": 4,
   "id": "24bf2654",
   "metadata": {},
   "outputs": [
    {
     "name": "stdout",
     "output_type": "stream",
     "text": [
      "['sym2', 'sym3', 'sym4', 'sym5', 'sym6', 'sym7', 'sym8', 'sym9', 'sym10', 'sym11', 'sym12', 'sym13', 'sym14', 'sym15', 'sym16', 'sym17', 'sym18', 'sym19', 'sym20']\n"
     ]
    }
   ],
   "source": [
    "print(wt.wavelist('sym'))"
   ]
  },
  {
   "cell_type": "code",
   "execution_count": 5,
   "id": "850df761",
   "metadata": {},
   "outputs": [
    {
     "name": "stdout",
     "output_type": "stream",
     "text": [
      "['bior1.1', 'bior1.3', 'bior1.5', 'bior2.2', 'bior2.4', 'bior2.6', 'bior2.8', 'bior3.1', 'bior3.3', 'bior3.5', 'bior3.7', 'bior3.9', 'bior4.4', 'bior5.5', 'bior6.8']\n"
     ]
    }
   ],
   "source": [
    "print(wt.wavelist('bior'))"
   ]
  },
  {
   "cell_type": "markdown",
   "id": "2ced32b4",
   "metadata": {},
   "source": [
    "## An orthogonal discrete wavelet"
   ]
  },
  {
   "cell_type": "code",
   "execution_count": 6,
   "id": "6ca128e5",
   "metadata": {},
   "outputs": [
    {
     "name": "stdout",
     "output_type": "stream",
     "text": [
      "Wavelet db2\n",
      "  Family name:    Daubechies\n",
      "  Short name:     db\n",
      "  Filters length: 4\n",
      "  Orthogonal:     True\n",
      "  Biorthogonal:   True\n",
      "  Symmetry:       asymmetric\n",
      "  DWT:            True\n",
      "  CWT:            False\n"
     ]
    }
   ],
   "source": [
    "wavelet = wt.build_wavelet(f\"db2\")\n",
    "print(wavelet)"
   ]
  },
  {
   "cell_type": "code",
   "execution_count": 7,
   "id": "91f08c97",
   "metadata": {},
   "outputs": [
    {
     "name": "stdout",
     "output_type": "stream",
     "text": [
      "[-0.12940952  0.22414386  0.8365163   0.4829629 ]\n",
      "[-0.4829629   0.8365163  -0.22414386 -0.12940952]\n",
      "[ 0.4829629   0.8365163   0.22414386 -0.12940952]\n",
      "[-0.12940952 -0.22414386  0.8365163  -0.4829629 ]\n"
     ]
    }
   ],
   "source": [
    "dec_lo, dec_hi, rec_lo, rec_hi = wavelet.filter_bank\n",
    "print(dec_lo)\n",
    "print(dec_hi)\n",
    "print(rec_lo)\n",
    "print(rec_hi)"
   ]
  },
  {
   "cell_type": "code",
   "execution_count": 8,
   "id": "0c140ccf",
   "metadata": {},
   "outputs": [
    {
     "data": {
      "text/plain": [
       "DeviceArray([-0.12940952,  0.22414386,  0.8365163 ,  0.4829629 ], dtype=float32)"
      ]
     },
     "execution_count": 8,
     "metadata": {},
     "output_type": "execute_result"
    }
   ],
   "source": [
    "wavelet.dec_lo"
   ]
  },
  {
   "cell_type": "code",
   "execution_count": 9,
   "id": "3c58d43e",
   "metadata": {},
   "outputs": [
    {
     "data": {
      "text/plain": [
       "DeviceArray([-0.4829629 ,  0.8365163 , -0.22414386, -0.12940952], dtype=float32)"
      ]
     },
     "execution_count": 9,
     "metadata": {},
     "output_type": "execute_result"
    }
   ],
   "source": [
    "wavelet.dec_hi"
   ]
  },
  {
   "cell_type": "code",
   "execution_count": 10,
   "id": "cc1045b9",
   "metadata": {},
   "outputs": [
    {
     "data": {
      "text/plain": [
       "DeviceArray([ 0.4829629 ,  0.8365163 ,  0.22414386, -0.12940952], dtype=float32)"
      ]
     },
     "execution_count": 10,
     "metadata": {},
     "output_type": "execute_result"
    }
   ],
   "source": [
    "wavelet.rec_lo"
   ]
  },
  {
   "cell_type": "code",
   "execution_count": 11,
   "id": "dfcbbe07",
   "metadata": {},
   "outputs": [
    {
     "data": {
      "text/plain": [
       "DeviceArray([-0.12940952, -0.22414386,  0.8365163 , -0.4829629 ], dtype=float32)"
      ]
     },
     "execution_count": 11,
     "metadata": {},
     "output_type": "execute_result"
    }
   ],
   "source": [
    "wavelet.rec_hi"
   ]
  },
  {
   "cell_type": "code",
   "execution_count": 12,
   "id": "2c01cf14",
   "metadata": {},
   "outputs": [
    {
     "data": {
      "text/plain": [
       "True"
      ]
     },
     "execution_count": 12,
     "metadata": {},
     "output_type": "execute_result"
    }
   ],
   "source": [
    "wavelet.orthogonal"
   ]
  },
  {
   "cell_type": "code",
   "execution_count": 13,
   "id": "b07347f3",
   "metadata": {},
   "outputs": [
    {
     "data": {
      "text/plain": [
       "True"
      ]
     },
     "execution_count": 13,
     "metadata": {},
     "output_type": "execute_result"
    }
   ],
   "source": [
    "wavelet.biorthogonal"
   ]
  },
  {
   "cell_type": "code",
   "execution_count": 14,
   "id": "655034bb",
   "metadata": {},
   "outputs": [
    {
     "data": {
      "text/plain": [
       "True"
      ]
     },
     "execution_count": 14,
     "metadata": {},
     "output_type": "execute_result"
    }
   ],
   "source": [
    "wavelet.compact_support"
   ]
  },
  {
   "cell_type": "code",
   "execution_count": 15,
   "id": "582f856f",
   "metadata": {},
   "outputs": [
    {
     "data": {
      "text/plain": [
       "'db2'"
      ]
     },
     "execution_count": 15,
     "metadata": {},
     "output_type": "execute_result"
    }
   ],
   "source": [
    "wavelet.name"
   ]
  },
  {
   "cell_type": "code",
   "execution_count": 16,
   "id": "8e9feefe",
   "metadata": {},
   "outputs": [
    {
     "data": {
      "text/plain": [
       "'Daubechies'"
      ]
     },
     "execution_count": 16,
     "metadata": {},
     "output_type": "execute_result"
    }
   ],
   "source": [
    "wavelet.family_name"
   ]
  },
  {
   "cell_type": "code",
   "execution_count": 17,
   "id": "873e57c9",
   "metadata": {},
   "outputs": [
    {
     "data": {
      "text/plain": [
       "'db'"
      ]
     },
     "execution_count": 17,
     "metadata": {},
     "output_type": "execute_result"
    }
   ],
   "source": [
    "wavelet.short_name"
   ]
  },
  {
   "cell_type": "code",
   "execution_count": 18,
   "id": "995951ce",
   "metadata": {},
   "outputs": [
    {
     "data": {
      "text/plain": [
       "2"
      ]
     },
     "execution_count": 18,
     "metadata": {},
     "output_type": "execute_result"
    }
   ],
   "source": [
    "wavelet.vanishing_moments_psi"
   ]
  },
  {
   "cell_type": "code",
   "execution_count": 19,
   "id": "f38d8f6e",
   "metadata": {},
   "outputs": [
    {
     "data": {
      "text/plain": [
       "0"
      ]
     },
     "execution_count": 19,
     "metadata": {},
     "output_type": "execute_result"
    }
   ],
   "source": [
    "wavelet.vanishing_moments_phi"
   ]
  },
  {
   "cell_type": "code",
   "execution_count": 20,
   "id": "e7ec8693",
   "metadata": {},
   "outputs": [
    {
     "data": {
      "text/plain": [
       "<SYMMETRY.ASYMMETRIC: 0>"
      ]
     },
     "execution_count": 20,
     "metadata": {},
     "output_type": "execute_result"
    }
   ],
   "source": [
    "wavelet.symmetry"
   ]
  },
  {
   "cell_type": "code",
   "execution_count": 21,
   "id": "939e3d9a",
   "metadata": {},
   "outputs": [
    {
     "data": {
      "text/plain": [
       "(DeviceArray([-0.12940952,  0.22414386,  0.8365163 ,  0.4829629 ], dtype=float32),\n",
       " DeviceArray([-0.4829629 ,  0.8365163 , -0.22414386, -0.12940952], dtype=float32),\n",
       " DeviceArray([ 0.4829629 ,  0.8365163 ,  0.22414386, -0.12940952], dtype=float32),\n",
       " DeviceArray([-0.12940952, -0.22414386,  0.8365163 , -0.4829629 ], dtype=float32))"
      ]
     },
     "execution_count": 21,
     "metadata": {},
     "output_type": "execute_result"
    }
   ],
   "source": [
    "wavelet.inverse_filter_bank"
   ]
  },
  {
   "cell_type": "markdown",
   "id": "8782ab63",
   "metadata": {},
   "source": [
    "## A biorthogonal discrete wavelet"
   ]
  },
  {
   "cell_type": "code",
   "execution_count": 22,
   "id": "7b0be591",
   "metadata": {},
   "outputs": [
    {
     "name": "stdout",
     "output_type": "stream",
     "text": [
      "Wavelet bior2.2\n",
      "  Family name:    Biorthogonal\n",
      "  Short name:     bior\n",
      "  Filters length: 6\n",
      "  Orthogonal:     False\n",
      "  Biorthogonal:   True\n",
      "  Symmetry:       symmetric\n",
      "  DWT:            True\n",
      "  CWT:            False\n"
     ]
    }
   ],
   "source": [
    "wavelet = wt.build_wavelet(\"bior2.2\")\n",
    "print(wavelet)"
   ]
  },
  {
   "cell_type": "code",
   "execution_count": 23,
   "id": "91aae2f9",
   "metadata": {},
   "outputs": [
    {
     "data": {
      "text/plain": [
       "(DeviceArray([ 0.        , -0.17677669,  0.35355338,  1.0606601 ,\n",
       "               0.35355338, -0.17677669], dtype=float32),\n",
       " DeviceArray([-0.        ,  0.35355338, -0.70710677,  0.35355338,\n",
       "              -0.        ,  0.        ], dtype=float32),\n",
       " DeviceArray([0.        , 0.35355338, 0.70710677, 0.35355338, 0.        ,\n",
       "              0.        ], dtype=float32),\n",
       " DeviceArray([ 0.        ,  0.17677669,  0.35355338, -1.0606601 ,\n",
       "               0.35355338,  0.17677669], dtype=float32))"
      ]
     },
     "execution_count": 23,
     "metadata": {},
     "output_type": "execute_result"
    }
   ],
   "source": [
    "wavelet.filter_bank"
   ]
  },
  {
   "cell_type": "code",
   "execution_count": 24,
   "id": "97dbc085",
   "metadata": {},
   "outputs": [
    {
     "name": "stdout",
     "output_type": "stream",
     "text": [
      "Wavelet rbio2.4\n",
      "  Family name:    Reverse biorthogonal\n",
      "  Short name:     rbio\n",
      "  Filters length: 10\n",
      "  Orthogonal:     False\n",
      "  Biorthogonal:   True\n",
      "  Symmetry:       symmetric\n",
      "  DWT:            True\n",
      "  CWT:            False\n"
     ]
    }
   ],
   "source": [
    "wavelet = wt.build_wavelet(f\"rbio2.4\")\n",
    "print(wavelet)"
   ]
  },
  {
   "cell_type": "code",
   "execution_count": null,
   "id": "0826e04e",
   "metadata": {},
   "outputs": [],
   "source": []
  }
 ],
 "metadata": {
  "kernelspec": {
   "display_name": "Python 3",
   "language": "python",
   "name": "python3"
  },
  "language_info": {
   "codemirror_mode": {
    "name": "ipython",
    "version": 3
   },
   "file_extension": ".py",
   "mimetype": "text/x-python",
   "name": "python",
   "nbconvert_exporter": "python",
   "pygments_lexer": "ipython3",
   "version": "3.8.8"
  }
 },
 "nbformat": 4,
 "nbformat_minor": 5
}
