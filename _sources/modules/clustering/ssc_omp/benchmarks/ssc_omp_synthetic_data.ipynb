{
 "cells": [
  {
   "cell_type": "markdown",
   "id": "2da2fbd1",
   "metadata": {},
   "source": [
    "# SSC-OMP on synthetic data\n",
    "\n",
    "In this example:\n",
    "- We consider $\\mathbb{R}^M$ as our ambient space of data with $M=9$.\n",
    "- We sample $K=5$ low dimensional subspaces from it. Each subspace is represented by an orthonormal basis for it.\n",
    "- Each subspace is of dimension $D=6$. \n",
    "- We then sample $S_k = 10000$ points from each subspace and put them together in a data matrix $X$.\n",
    "- Total number of points is $S=50000$.\n",
    "- We assign a (true) label to each data point point.\n",
    "- We then use OMP algorithm to build a self expressive representation of each point in terms of other points. \n",
    "- If things go well, we hope that OMP will choose points from the same subspace to create a sparse representation of each point in $X$. \n",
    "- Since each subspace is $D$ dimensional, each point will be represented in terms of $D$ other points. \n",
    "- We assemble these representations into a sparse matrix $Z$ which has exactly $DS$ non-zero entries. This and following steps use the `jax.experimental.sparse.BCOO` for efficiently storing the sparse matrices. \n",
    "- We construct an affinity matrix $W = |C| + |C^T|$. \n",
    "- We run spectral clustering to cluster these data points into $K$ clusters using the affinity matrix $W$ as input.\n",
    "- We use Hungarian algorithm to map the true labels with the labels assigned by spectral clustering. \n",
    "- We then measure the clustering error (number of points not assigned into the correct cluster). \n",
    "- We also preserve the subspace preservation ratio. i.e. in the $D$-sparse representation for each point, how many of the contributing points were from the same subspace.\n",
    "\n",
    "\n"
   ]
  },
  {
   "cell_type": "code",
   "execution_count": 1,
   "id": "c79cbc0e",
   "metadata": {},
   "outputs": [],
   "source": [
    "from jax.config import config\n",
    "config.update(\"jax_enable_x64\", True)\n",
    "import jax.numpy as jnp\n",
    "import cr.sparse as crs\n",
    "import cr.sparse.data as crdata\n",
    "import cr.sparse.la.subspaces\n",
    "import cr.sparse.cluster as cluster\n",
    "import cr.sparse.cluster.ssc as ssc\n",
    "import cr.sparse.cluster.spectral as spectral"
   ]
  },
  {
   "cell_type": "code",
   "execution_count": 2,
   "id": "d08bba9f",
   "metadata": {},
   "outputs": [],
   "source": [
    "# Ambient space dimension\n",
    "M = 9\n",
    "# Number of subspaces\n",
    "K = 5\n",
    "# common dimension for each subspace\n",
    "D = 6\n",
    "# Number of points per subspace\n",
    "Sk = 10000"
   ]
  },
  {
   "cell_type": "code",
   "execution_count": 3,
   "id": "9ebb52f8",
   "metadata": {},
   "outputs": [],
   "source": [
    "# select orthnormal bases for K random subspaces of dimension D  \n",
    "bases = crdata.random_subspaces_jit(crs.KEYS[0], M, D, K)\n",
    "cluster_sizes = jnp.ones(K, dtype=int) * Sk\n",
    "# Select Sk points for each subspace\n",
    "X = crdata.uniform_points_on_subspaces_jit(crs.KEYS[1], bases, Sk)\n",
    "# cluster labels for each of them\n",
    "true_labels = jnp.repeat(jnp.arange(K), Sk)"
   ]
  },
  {
   "cell_type": "code",
   "execution_count": 4,
   "id": "4d5e77f0",
   "metadata": {},
   "outputs": [],
   "source": [
    "batch_size = 800\n",
    "# build sparse representations in batches\n",
    "Z, I, R = ssc.batch_build_representation_omp_jit(X, D, batch_size)"
   ]
  },
  {
   "cell_type": "code",
   "execution_count": 5,
   "id": "d91a1d64",
   "metadata": {},
   "outputs": [
    {
     "name": "stdout",
     "output_type": "stream",
     "text": [
      "10.2 s ± 50 ms per loop (mean ± std. dev. of 7 runs, 1 loop each)\n"
     ]
    }
   ],
   "source": [
    "%timeit ssc.batch_build_representation_omp_jit(X, D, batch_size)[0].block_until_ready()"
   ]
  },
  {
   "cell_type": "code",
   "execution_count": 6,
   "id": "54f16cc8",
   "metadata": {},
   "outputs": [],
   "source": [
    "# Combine values and indices to form full representation\n",
    "Z_sp = ssc.sparse_to_bcoo(Z, I)"
   ]
  },
  {
   "cell_type": "code",
   "execution_count": 7,
   "id": "b5ff17e7",
   "metadata": {},
   "outputs": [],
   "source": [
    "# Build the affinity matrix\n",
    "affinity = ssc.rep_to_affinity(Z_sp)"
   ]
  },
  {
   "cell_type": "code",
   "execution_count": 8,
   "id": "0e535e88",
   "metadata": {},
   "outputs": [],
   "source": [
    "# Perform the spectral clustering on the affinity matrix\n",
    "res = spectral.normalized_symmetric_sparse_fast_k_jit(crs.KEYS[2], affinity, K)"
   ]
  },
  {
   "cell_type": "code",
   "execution_count": 9,
   "id": "536aa20b",
   "metadata": {},
   "outputs": [
    {
     "name": "stdout",
     "output_type": "stream",
     "text": [
      "867 ms ± 1.59 ms per loop (mean ± std. dev. of 7 runs, 1 loop each)\n"
     ]
    }
   ],
   "source": [
    "%timeit spectral.normalized_symmetric_sparse_fast_k_jit(crs.KEYS[2], affinity, K).assignment.block_until_ready()"
   ]
  },
  {
   "cell_type": "code",
   "execution_count": 10,
   "id": "c2f7adf0",
   "metadata": {},
   "outputs": [],
   "source": [
    "# Predicted cluster labels\n",
    "pred_labels = res.assignment"
   ]
  },
  {
   "cell_type": "code",
   "execution_count": 11,
   "id": "40d52168",
   "metadata": {},
   "outputs": [
    {
     "name": "stdout",
     "output_type": "stream",
     "text": [
      "num_missed: 857, error: 0.02, error_perc: 1.71\n",
      "[3 2 4 1 0]\n",
      "0=>3, 1=>2, 2=>4, 3=>1, 4=>0\n"
     ]
    }
   ],
   "source": [
    "clust_err = cluster.clustering_error_k(true_labels, pred_labels, K)\n",
    "print(clust_err)"
   ]
  },
  {
   "cell_type": "code",
   "execution_count": 12,
   "id": "fb710b4e",
   "metadata": {},
   "outputs": [
    {
     "name": "stdout",
     "output_type": "stream",
     "text": [
      "spr_error: 0.02348690787086873, spr_flag: False, spr_perc: 92.134\n"
     ]
    }
   ],
   "source": [
    "# subspace preservation stats\n",
    "spr_stats = ssc.sparse_subspace_preservation_stats_jit(Z, I, true_labels)\n",
    "print(spr_stats)"
   ]
  },
  {
   "cell_type": "code",
   "execution_count": null,
   "id": "4c4daf35",
   "metadata": {},
   "outputs": [],
   "source": []
  }
 ],
 "metadata": {
  "kernelspec": {
   "display_name": "Python 3",
   "language": "python",
   "name": "python3"
  },
  "language_info": {
   "codemirror_mode": {
    "name": "ipython",
    "version": 3
   },
   "file_extension": ".py",
   "mimetype": "text/x-python",
   "name": "python",
   "nbconvert_exporter": "python",
   "pygments_lexer": "ipython3",
   "version": "3.8.8"
  }
 },
 "nbformat": 4,
 "nbformat_minor": 5
}
