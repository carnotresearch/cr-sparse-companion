{
 "cells": [
  {
   "cell_type": "markdown",
   "id": "f1e55dec",
   "metadata": {},
   "source": [
    "# Computation of row-wise and column-wise norms"
   ]
  },
  {
   "cell_type": "code",
   "execution_count": 1,
   "id": "5200cdc6",
   "metadata": {},
   "outputs": [],
   "source": [
    "import jax\n",
    "import jax.numpy as jnp\n",
    "import cr.sparse as crs"
   ]
  },
  {
   "cell_type": "code",
   "execution_count": 2,
   "id": "fc41cfed",
   "metadata": {},
   "outputs": [],
   "source": [
    "M = 10\n",
    "p = 3\n",
    "N = 5"
   ]
  },
  {
   "cell_type": "code",
   "execution_count": 15,
   "id": "36925f38",
   "metadata": {},
   "outputs": [
    {
     "data": {
      "text/plain": [
       "DeviceArray([[ -1.,   2.,  -3.,   4.,   5.,   6.,  -7.,   8.,  -9.,  10.],\n",
       "             [ -1.,   2.,   3.,   4.,   5.,   6.,  -7.,   8.,   9., -10.],\n",
       "             [ -1.,   2.,   3.,  -4.,  -5.,  -6.,  -7.,  -8.,  -9., -10.]],            dtype=float32)"
      ]
     },
     "execution_count": 15,
     "metadata": {},
     "output_type": "execute_result"
    }
   ],
   "source": [
    "A = jnp.arange(1, M+1) * jnp.ones((p, 1))\n",
    "A = jnp.sign(jax.random.normal(jax.random.PRNGKey(0), (p, M))) * A\n",
    "A"
   ]
  },
  {
   "cell_type": "code",
   "execution_count": 16,
   "id": "fdda884f",
   "metadata": {},
   "outputs": [
    {
     "data": {
      "text/plain": [
       "DeviceArray([  3.,  12.,  27.,  48.,  75., 108., 147., 192., 243., 300.],            dtype=float32)"
      ]
     },
     "execution_count": 16,
     "metadata": {},
     "output_type": "execute_result"
    }
   ],
   "source": [
    "# Euclidean norm squared for each column\n",
    "crs.sqr_norms_l2_cw(A)"
   ]
  },
  {
   "cell_type": "code",
   "execution_count": 17,
   "id": "02b8c04d",
   "metadata": {},
   "outputs": [
    {
     "data": {
      "text/plain": [
       "DeviceArray([[ -1.,  -1.,  -1.],\n",
       "             [  2.,   2.,   2.],\n",
       "             [ -3.,   3.,   3.],\n",
       "             [  4.,   4.,  -4.],\n",
       "             [  5.,   5.,  -5.],\n",
       "             [  6.,   6.,  -6.],\n",
       "             [ -7.,  -7.,  -7.],\n",
       "             [  8.,   8.,  -8.],\n",
       "             [ -9.,   9.,  -9.],\n",
       "             [ 10., -10., -10.]], dtype=float32)"
      ]
     },
     "execution_count": 17,
     "metadata": {},
     "output_type": "execute_result"
    }
   ],
   "source": [
    "B = A.T\n",
    "B"
   ]
  },
  {
   "cell_type": "code",
   "execution_count": 18,
   "id": "ff0028af",
   "metadata": {},
   "outputs": [
    {
     "data": {
      "text/plain": [
       "DeviceArray([  3.,  12.,  27.,  48.,  75., 108., 147., 192., 243., 300.],            dtype=float32)"
      ]
     },
     "execution_count": 18,
     "metadata": {},
     "output_type": "execute_result"
    }
   ],
   "source": [
    "# Euclidean norm squared for each row\n",
    "crs.sqr_norms_l2_rw(B)"
   ]
  },
  {
   "cell_type": "code",
   "execution_count": 19,
   "id": "175e51b7",
   "metadata": {},
   "outputs": [
    {
     "data": {
      "text/plain": [
       "DeviceArray([ 1.7320508,  3.4641016,  5.196152 ,  6.928203 ,  8.660254 ,\n",
       "             10.392304 , 12.124355 , 13.856406 , 15.588457 , 17.320507 ],            dtype=float32)"
      ]
     },
     "execution_count": 19,
     "metadata": {},
     "output_type": "execute_result"
    }
   ],
   "source": [
    "# Euclidean norm for each column\n",
    "crs.norms_l2_cw(A)"
   ]
  },
  {
   "cell_type": "code",
   "execution_count": 20,
   "id": "04b4505f",
   "metadata": {},
   "outputs": [
    {
     "data": {
      "text/plain": [
       "DeviceArray([ 1.7320508,  3.4641016,  5.196152 ,  6.928203 ,  8.660254 ,\n",
       "             10.392304 , 12.124355 , 13.856406 , 15.588457 , 17.320507 ],            dtype=float32)"
      ]
     },
     "execution_count": 20,
     "metadata": {},
     "output_type": "execute_result"
    }
   ],
   "source": [
    "# Euclidean norm for each row\n",
    "crs.norms_l2_rw(B)"
   ]
  },
  {
   "cell_type": "code",
   "execution_count": 21,
   "id": "9d98b87d",
   "metadata": {},
   "outputs": [
    {
     "data": {
      "text/plain": [
       "DeviceArray([ 3.,  6.,  9., 12., 15., 18., 21., 24., 27., 30.], dtype=float32)"
      ]
     },
     "execution_count": 21,
     "metadata": {},
     "output_type": "execute_result"
    }
   ],
   "source": [
    "# L1 or city block norm for each column\n",
    "crs.norms_l1_cw(A)"
   ]
  },
  {
   "cell_type": "code",
   "execution_count": 22,
   "id": "b0ae5e28",
   "metadata": {},
   "outputs": [
    {
     "data": {
      "text/plain": [
       "DeviceArray([ 3.,  6.,  9., 12., 15., 18., 21., 24., 27., 30.], dtype=float32)"
      ]
     },
     "execution_count": 22,
     "metadata": {},
     "output_type": "execute_result"
    }
   ],
   "source": [
    "# L1 or city block norm for each row\n",
    "crs.norms_l1_rw(B)"
   ]
  },
  {
   "cell_type": "code",
   "execution_count": 23,
   "id": "a7f2594f",
   "metadata": {},
   "outputs": [
    {
     "data": {
      "text/plain": [
       "DeviceArray([ 1.,  2.,  3.,  4.,  5.,  6.,  7.,  8.,  9., 10.], dtype=float32)"
      ]
     },
     "execution_count": 23,
     "metadata": {},
     "output_type": "execute_result"
    }
   ],
   "source": [
    "# L-inf or Chebyshev norm for each column\n",
    "crs.norms_linf_cw(A)"
   ]
  },
  {
   "cell_type": "code",
   "execution_count": 24,
   "id": "d1569161",
   "metadata": {},
   "outputs": [
    {
     "data": {
      "text/plain": [
       "DeviceArray([ 1.,  2.,  3.,  4.,  5.,  6.,  7.,  8.,  9., 10.], dtype=float32)"
      ]
     },
     "execution_count": 24,
     "metadata": {},
     "output_type": "execute_result"
    }
   ],
   "source": [
    "# L-inf or Chebyshev norm for each row\n",
    "crs.norms_linf_rw(B)"
   ]
  },
  {
   "cell_type": "code",
   "execution_count": 26,
   "id": "9d0de1c9",
   "metadata": {},
   "outputs": [
    {
     "name": "stdout",
     "output_type": "stream",
     "text": [
      "[[-0.57735026  0.57735026 -0.5773503   0.57735026  0.5773503   0.5773503\n",
      "  -0.57735026  0.57735026 -0.5773503   0.5773503 ]\n",
      " [-0.57735026  0.57735026  0.5773503   0.57735026  0.5773503   0.5773503\n",
      "  -0.57735026  0.57735026  0.5773503  -0.5773503 ]\n",
      " [-0.57735026  0.57735026  0.5773503  -0.57735026 -0.5773503  -0.5773503\n",
      "  -0.57735026 -0.57735026 -0.5773503  -0.5773503 ]]\n"
     ]
    }
   ],
   "source": [
    "# l2-normalize each column\n",
    "print(crs.normalize_l2_cw(A))"
   ]
  },
  {
   "cell_type": "code",
   "execution_count": 27,
   "id": "f80354aa",
   "metadata": {},
   "outputs": [
    {
     "name": "stdout",
     "output_type": "stream",
     "text": [
      "[[-0.57735026 -0.57735026 -0.57735026]\n",
      " [ 0.57735026  0.57735026  0.57735026]\n",
      " [-0.5773503   0.5773503   0.5773503 ]\n",
      " [ 0.57735026  0.57735026 -0.57735026]\n",
      " [ 0.5773503   0.5773503  -0.5773503 ]\n",
      " [ 0.5773503   0.5773503  -0.5773503 ]\n",
      " [-0.57735026 -0.57735026 -0.57735026]\n",
      " [ 0.57735026  0.57735026 -0.57735026]\n",
      " [-0.5773503   0.5773503  -0.5773503 ]\n",
      " [ 0.5773503  -0.5773503  -0.5773503 ]]\n"
     ]
    }
   ],
   "source": [
    "# l2-normalize each row\n",
    "print(crs.normalize_l2_rw(B))"
   ]
  },
  {
   "cell_type": "code",
   "execution_count": 28,
   "id": "2db81bc7",
   "metadata": {},
   "outputs": [
    {
     "name": "stdout",
     "output_type": "stream",
     "text": [
      "[[-0.33333334  0.33333334 -0.33333334  0.33333334  0.33333334  0.33333334\n",
      "  -0.33333334  0.33333334 -0.33333334  0.33333334]\n",
      " [-0.33333334  0.33333334  0.33333334  0.33333334  0.33333334  0.33333334\n",
      "  -0.33333334  0.33333334  0.33333334 -0.33333334]\n",
      " [-0.33333334  0.33333334  0.33333334 -0.33333334 -0.33333334 -0.33333334\n",
      "  -0.33333334 -0.33333334 -0.33333334 -0.33333334]]\n"
     ]
    }
   ],
   "source": [
    "# l1-normalize each column\n",
    "print(crs.normalize_l1_cw(A))"
   ]
  },
  {
   "cell_type": "code",
   "execution_count": 29,
   "id": "9a4274f4",
   "metadata": {},
   "outputs": [
    {
     "name": "stdout",
     "output_type": "stream",
     "text": [
      "[[-0.33333334 -0.33333334 -0.33333334]\n",
      " [ 0.33333334  0.33333334  0.33333334]\n",
      " [-0.33333334  0.33333334  0.33333334]\n",
      " [ 0.33333334  0.33333334 -0.33333334]\n",
      " [ 0.33333334  0.33333334 -0.33333334]\n",
      " [ 0.33333334  0.33333334 -0.33333334]\n",
      " [-0.33333334 -0.33333334 -0.33333334]\n",
      " [ 0.33333334  0.33333334 -0.33333334]\n",
      " [-0.33333334  0.33333334 -0.33333334]\n",
      " [ 0.33333334 -0.33333334 -0.33333334]]\n"
     ]
    }
   ],
   "source": [
    "# l1-normalize each row\n",
    "print(crs.normalize_l1_rw(B))"
   ]
  },
  {
   "cell_type": "code",
   "execution_count": null,
   "id": "b479a18a",
   "metadata": {},
   "outputs": [],
   "source": []
  }
 ],
 "metadata": {
  "kernelspec": {
   "display_name": "Python 3",
   "language": "python",
   "name": "python3"
  },
  "language_info": {
   "codemirror_mode": {
    "name": "ipython",
    "version": 3
   },
   "file_extension": ".py",
   "mimetype": "text/x-python",
   "name": "python",
   "nbconvert_exporter": "python",
   "pygments_lexer": "ipython3",
   "version": "3.8.8"
  }
 },
 "nbformat": 4,
 "nbformat_minor": 5
}
