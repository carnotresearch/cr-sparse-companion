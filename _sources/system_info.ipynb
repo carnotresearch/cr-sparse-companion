{
 "cells": [
  {
   "cell_type": "markdown",
   "id": "b9d54777",
   "metadata": {},
   "source": [
    "# SYSTEM INFORMATION"
   ]
  },
  {
   "cell_type": "code",
   "execution_count": 1,
   "id": "6aab85e1",
   "metadata": {},
   "outputs": [],
   "source": [
    "import psutil\n",
    "import platform\n",
    "import GPUtil\n",
    "import os\n",
    "import cpuinfo"
   ]
  },
  {
   "cell_type": "code",
   "execution_count": 2,
   "id": "a7a537ea",
   "metadata": {},
   "outputs": [
    {
     "name": "stdout",
     "output_type": "stream",
     "text": [
      "System: Linux, Release: 4.15.0-144-generic, Version: #148-Ubuntu SMP Sat May 8 02:33:43 UTC 2021, Machine: x86_64, Processor: x86_64\n",
      "Processor model: x86_64\n",
      "Physical cores: 16\n"
     ]
    }
   ],
   "source": [
    "un = platform.uname()\n",
    "print(f\"System: {un.system}, Release: {un.release}, Version: {un.version}, Machine: {un.machine}, Processor: {un.processor}\")\n",
    "print(f'Processor model: {platform.processor()}')\n",
    "print(\"Physical cores:\", psutil.cpu_count(logical=False))"
   ]
  },
  {
   "cell_type": "code",
   "execution_count": 7,
   "id": "d2a6588d",
   "metadata": {},
   "outputs": [
    {
     "name": "stdout",
     "output_type": "stream",
     "text": [
      "python_version=3.8.8.final.0 (64 bit)\n",
      "arch=X86_64\n",
      "bits=64\n",
      "count=32\n",
      "brand_raw=Intel(R) Xeon(R) Gold 6130 CPU @ 2.10GHz\n",
      "l1_data_cache_size=32768\n",
      "l1_instruction_cache_size=32768\n",
      "l2_cache_size=1048576\n",
      "l3_cache_size=23068672\n"
     ]
    }
   ],
   "source": [
    "info = cpuinfo.get_cpu_info()\n",
    "for key in ['python_version', 'arch', 'bits', 'count', 'brand_raw', \n",
    "            'l1_data_cache_size', 'l1_instruction_cache_size', 'l2_cache_size', 'l3_cache_size']:\n",
    "    print(f'{key}={info[key]}')\n"
   ]
  },
  {
   "cell_type": "code",
   "execution_count": 4,
   "id": "4c6c103a",
   "metadata": {},
   "outputs": [
    {
     "name": "stdout",
     "output_type": "stream",
     "text": [
      "Max Frequency: 3700.00Mhz\n",
      "Min Frequency: 1000.00Mhz\n",
      "Current Frequency: 1081.34Mhz\n"
     ]
    }
   ],
   "source": [
    "cpufreq = psutil.cpu_freq()\n",
    "print(f\"Max Frequency: {cpufreq.max:.2f}Mhz\")\n",
    "print(f\"Min Frequency: {cpufreq.min:.2f}Mhz\")\n",
    "print(f\"Current Frequency: {cpufreq.current:.2f}Mhz\")"
   ]
  },
  {
   "cell_type": "code",
   "execution_count": 5,
   "id": "45e4a6fa",
   "metadata": {},
   "outputs": [
    {
     "name": "stdout",
     "output_type": "stream",
     "text": [
      "Total: 62.42718505859375 GB\n",
      "Available: 49.68 GB\n"
     ]
    }
   ],
   "source": [
    "svmem = psutil.virtual_memory()\n",
    "print(f\"Total: {svmem.total / (2**30)} GB\")\n",
    "print(f\"Available: {svmem.available / (2**30):.2f} GB\")\n"
   ]
  },
  {
   "cell_type": "code",
   "execution_count": 6,
   "id": "e435a1e5",
   "metadata": {},
   "outputs": [
    {
     "name": "stdout",
     "output_type": "stream",
     "text": [
      "Number of GPUs: 1\n",
      "Driver Version: b'495.29.05'\n",
      "Device 0 : b'NVIDIA GeForce GTX 1060 6GB'\n"
     ]
    }
   ],
   "source": [
    "gpus = GPUtil.getAvailable()\n",
    "if gpus:\n",
    "    print(f'Number of GPUs: {len(gpus)}')\n",
    "    os.system('nvidia-smi')\n",
    "    from pynvml import *\n",
    "    nvmlInit()\n",
    "    print(\"Driver Version:\", nvmlSystemGetDriverVersion())\n",
    "    deviceCount = nvmlDeviceGetCount()\n",
    "    for i in range(deviceCount):\n",
    "        handle = nvmlDeviceGetHandleByIndex(i)\n",
    "        print(\"Device\", i, \":\", nvmlDeviceGetName(handle))\n",
    "    nvmlShutdown()"
   ]
  },
  {
   "cell_type": "code",
   "execution_count": null,
   "id": "9c47f96c",
   "metadata": {},
   "outputs": [],
   "source": []
  }
 ],
 "metadata": {
  "kernelspec": {
   "display_name": "Python 3",
   "language": "python",
   "name": "python3"
  },
  "language_info": {
   "codemirror_mode": {
    "name": "ipython",
    "version": 3
   },
   "file_extension": ".py",
   "mimetype": "text/x-python",
   "name": "python",
   "nbconvert_exporter": "python",
   "pygments_lexer": "ipython3",
   "version": "3.8.8"
  }
 },
 "nbformat": 4,
 "nbformat_minor": 5
}
