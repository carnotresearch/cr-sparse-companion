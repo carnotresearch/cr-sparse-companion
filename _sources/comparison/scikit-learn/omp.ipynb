{
 "cells": [
  {
   "cell_type": "markdown",
   "id": "552f1895",
   "metadata": {},
   "source": [
    "# Orthogonal Matching Pursuit\n",
    "\n",
    "This notebook compares the runtime of OMP implementation in `scikit-learn` with `cr-sparse`."
   ]
  },
  {
   "cell_type": "code",
   "execution_count": 1,
   "id": "211cee6c",
   "metadata": {},
   "outputs": [],
   "source": [
    "import matplotlib.pyplot as plt\n",
    "import numpy as np\n",
    "from jax.config import config\n",
    "config.update(\"jax_enable_x64\", True)\n",
    "import jax.numpy as jnp\n",
    "# sklearn\n",
    "from sklearn.linear_model import OrthogonalMatchingPursuit\n",
    "from sklearn.datasets import make_sparse_coded_signal\n",
    "# cr-sparse imports\n",
    "import cr.sparse as crs\n",
    "import cr.sparse.pursuit.omp as crs_omp"
   ]
  },
  {
   "cell_type": "code",
   "execution_count": 2,
   "id": "8e7942ca",
   "metadata": {},
   "outputs": [],
   "source": [
    "n_components, n_features = 10000, 2000\n",
    "n_nonzero_coefs = 100"
   ]
  },
  {
   "cell_type": "code",
   "execution_count": 3,
   "id": "faf4d48e",
   "metadata": {},
   "outputs": [],
   "source": [
    "y, X, w = make_sparse_coded_signal(\n",
    "    n_samples=1,\n",
    "    n_components=n_components,\n",
    "    n_features=n_features,\n",
    "    n_nonzero_coefs=n_nonzero_coefs,\n",
    "    random_state=0,\n",
    ")\n"
   ]
  },
  {
   "cell_type": "code",
   "execution_count": 4,
   "id": "e13f9af9",
   "metadata": {},
   "outputs": [
    {
     "data": {
      "text/plain": [
       "(2000, 10000)"
      ]
     },
     "execution_count": 4,
     "metadata": {},
     "output_type": "execute_result"
    }
   ],
   "source": [
    "X.shape"
   ]
  },
  {
   "cell_type": "code",
   "execution_count": 5,
   "id": "4250063b",
   "metadata": {},
   "outputs": [
    {
     "data": {
      "text/plain": [
       "array([  11,   72,   74,  173,  176,  341,  423,  504,  643, 1441, 1595,\n",
       "       1601, 1732, 1868, 2086, 2174, 2215, 2216, 2371, 2665, 2764, 2923,\n",
       "       3011, 3281, 3345, 3372, 3433, 3450, 3546, 3572, 3586, 3628, 3690,\n",
       "       3714, 3777, 3822, 3911, 4080, 4085, 4150, 4238, 4251, 4334, 4450,\n",
       "       4544, 4567, 4674, 4960, 5244, 5428, 5434, 5581, 5649, 5657, 5781,\n",
       "       5807, 5836, 5933, 6043, 6055, 6190, 6229, 6298, 6344, 6395, 6499,\n",
       "       6505, 6735, 6750, 6810, 6832, 6897, 7304, 7307, 7335, 7370, 7503,\n",
       "       7505, 7514, 7574, 7604, 7615, 7699, 8111, 8178, 8307, 8309, 8360,\n",
       "       8422, 8438, 8780, 8909, 9212, 9263, 9517, 9643, 9644, 9649, 9891,\n",
       "       9982])"
      ]
     },
     "execution_count": 5,
     "metadata": {},
     "output_type": "execute_result"
    }
   ],
   "source": [
    "(idx,) = w.nonzero()\n",
    "idx"
   ]
  },
  {
   "cell_type": "code",
   "execution_count": 6,
   "id": "6cfd2cf5",
   "metadata": {},
   "outputs": [],
   "source": [
    "# distort the clean signal\n",
    "y_noisy = y + 0.05 * np.random.randn(len(y))"
   ]
  },
  {
   "cell_type": "code",
   "execution_count": 7,
   "id": "f0385445",
   "metadata": {},
   "outputs": [],
   "source": [
    "sklearn_omp = OrthogonalMatchingPursuit(n_nonzero_coefs=n_nonzero_coefs, normalize=False)\n",
    "sklearn_omp.fit(X, y)\n",
    "coef = sklearn_omp.coef_"
   ]
  },
  {
   "cell_type": "code",
   "execution_count": 8,
   "id": "253d2e6c",
   "metadata": {},
   "outputs": [],
   "source": [
    "(idx_r,) = coef.nonzero()"
   ]
  },
  {
   "cell_type": "code",
   "execution_count": 9,
   "id": "7921de16",
   "metadata": {},
   "outputs": [
    {
     "data": {
      "text/plain": [
       "DeviceArray(True, dtype=bool)"
      ]
     },
     "execution_count": 9,
     "metadata": {},
     "output_type": "execute_result"
    }
   ],
   "source": [
    "jnp.allclose(idx, idx_r)"
   ]
  },
  {
   "cell_type": "code",
   "execution_count": 10,
   "id": "340ff30a",
   "metadata": {},
   "outputs": [
    {
     "data": {
      "text/plain": [
       "array([ 0.22988199, -0.94303868, -1.25317778, -0.87889387,  1.27763385,\n",
       "       -0.55424202,  0.59858225,  0.63647644,  0.36803094,  2.41796731,\n",
       "       -1.48495303, -0.12272381, -0.23279657,  1.46299794, -1.69637976,\n",
       "        1.26852914,  0.24736281, -0.93801921, -1.53426129, -0.7115889 ,\n",
       "       -1.72529192, -0.61101788,  1.41330667,  0.54418405,  0.0916008 ,\n",
       "        0.45598073,  0.57411609,  0.74642222,  1.46684293, -0.39081685,\n",
       "        0.20619313,  0.35597824, -0.20555081, -0.30032162,  1.30586014,\n",
       "        0.69459212,  0.72687452, -0.1225696 , -0.64648978,  0.07525342,\n",
       "        0.40708142, -0.90305857,  1.23610938, -0.02057273, -0.62723391,\n",
       "        1.13914078,  1.60910332, -0.6505078 , -0.54608446, -1.71609353,\n",
       "        0.67038443,  0.53563422, -0.33609932,  0.42850107, -0.48190576,\n",
       "        1.8132168 , -0.12322664,  0.76890924, -0.30625163,  0.61183925,\n",
       "        0.54834446,  1.28747139,  1.98886147, -0.20837021, -0.65145199,\n",
       "       -1.44431949, -1.7036624 , -1.70906404, -0.20278546, -0.06916413,\n",
       "       -0.30870709,  0.04939863,  0.03252949, -0.46755286,  1.80088922,\n",
       "       -0.44528567,  0.74070197, -0.24315753, -0.00907255, -0.31648649,\n",
       "       -0.44866272, -1.18214884, -0.83968022,  0.22340382,  0.89069855,\n",
       "       -1.02127932, -0.65027866,  1.96807574, -0.71031316, -0.13957926,\n",
       "       -0.30692036,  0.0853642 , -1.25947971, -0.03461537,  0.43799029,\n",
       "        0.80638696,  1.28971144, -2.12465697,  0.90155434,  1.54350939])"
      ]
     },
     "execution_count": 10,
     "metadata": {},
     "output_type": "execute_result"
    }
   ],
   "source": [
    "w[idx]"
   ]
  },
  {
   "cell_type": "code",
   "execution_count": 11,
   "id": "d4e4ac07",
   "metadata": {},
   "outputs": [],
   "source": [
    "X_jax = jnp.array(X)\n",
    "y_jax = jnp.array(y)"
   ]
  },
  {
   "cell_type": "code",
   "execution_count": 12,
   "id": "11507e2f",
   "metadata": {},
   "outputs": [],
   "source": [
    "solution = crs_omp.matrix_solve_jit(X_jax, y_jax, n_nonzero_coefs)"
   ]
  },
  {
   "cell_type": "code",
   "execution_count": 13,
   "id": "0f64cd85",
   "metadata": {},
   "outputs": [],
   "source": [
    "coef_jax = crs.build_signal_from_indices_and_values(n_components, solution.I, solution.x_I)"
   ]
  },
  {
   "cell_type": "code",
   "execution_count": 14,
   "id": "32e5c53a",
   "metadata": {},
   "outputs": [
    {
     "data": {
      "text/plain": [
       "DeviceArray(True, dtype=bool)"
      ]
     },
     "execution_count": 14,
     "metadata": {},
     "output_type": "execute_result"
    }
   ],
   "source": [
    "jnp.allclose(coef, coef_jax)"
   ]
  },
  {
   "cell_type": "code",
   "execution_count": 15,
   "id": "9b7f35a0",
   "metadata": {},
   "outputs": [
    {
     "name": "stdout",
     "output_type": "stream",
     "text": [
      "379 ms ± 5.11 ms per loop (mean ± std. dev. of 7 runs, 1 loop each)\n"
     ]
    }
   ],
   "source": [
    "np_time = %timeit -o sklearn_omp.fit(X, y)"
   ]
  },
  {
   "cell_type": "code",
   "execution_count": 16,
   "id": "389be76a",
   "metadata": {},
   "outputs": [
    {
     "name": "stdout",
     "output_type": "stream",
     "text": [
      "120 ms ± 63.8 µs per loop (mean ± std. dev. of 7 runs, 10 loops each)\n"
     ]
    }
   ],
   "source": [
    "jax_time = %timeit -o crs_omp.matrix_solve_jit(X_jax, y_jax, n_nonzero_coefs).I.block_until_ready()"
   ]
  },
  {
   "cell_type": "code",
   "execution_count": 17,
   "id": "d1e7f6f7",
   "metadata": {},
   "outputs": [
    {
     "name": "stdout",
     "output_type": "stream",
     "text": [
      "3.147945470946132\n"
     ]
    }
   ],
   "source": [
    "gain = np_time.average / jax_time.average\n",
    "print(gain)"
   ]
  },
  {
   "cell_type": "code",
   "execution_count": null,
   "id": "387c3aeb",
   "metadata": {},
   "outputs": [],
   "source": []
  }
 ],
 "metadata": {
  "kernelspec": {
   "display_name": "Python 3",
   "language": "python",
   "name": "python3"
  },
  "language_info": {
   "codemirror_mode": {
    "name": "ipython",
    "version": 3
   },
   "file_extension": ".py",
   "mimetype": "text/x-python",
   "name": "python",
   "nbconvert_exporter": "python",
   "pygments_lexer": "ipython3",
   "version": "3.8.8"
  }
 },
 "nbformat": 4,
 "nbformat_minor": 5
}
